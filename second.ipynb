{
 "cells": [
  {
   "cell_type": "markdown",
   "metadata": {},
   "source": [
    "## SYDE556/750 Assignment 2: Spiking Neurons\n",
    "\n",
    "- Due Date: Feb 15th: Assignment #2 (due at midnight) \n",
    "- Total marks: 20 (20% of final grade)\n",
    "- Late penalty: 1 mark per day\n",
    "- It is recommended that you Python.\n",
    "- *Do not use any code from Nengo*"
   ]
  },
  {
   "cell_type": "markdown",
   "metadata": {},
   "source": [
    "## 1) Generating a random input signal\n",
    "\n",
    "### 1.1) Gaussian white noise\n",
    "\n",
    "Create a function called that generates a randomly varying $x(t)$ signal chosen from a white noise distribution.  Call it 'generate_signal' and ensure that it returns $x(t)$ and $X(\\omega)$.\n",
    "\n",
    "The inputs to the function are:\n",
    "\n",
    "- ``T``: the length of the signal in seconds\n",
    "- ``dt``: the time step in seconds\n",
    "- ``rms``: the root mean square power level of the signal.  That is, the resulting signal should have $\\sqrt{{1 \\over T} \\int{x(t)^2}dt}=rms$\n",
    "- ``limit``: the maximum frequency for the signal (in Hz)\n",
    "- ``seed``: the random number seed to use (so we can regenerate the same signal again)\n",
    "\n",
    "Notes:\n",
    "\n",
    "- To do Fourier transforms in MATLAB, see [here](http://www.mathworks.com/help/matlab/ref/fft.html)\n",
    "- To do Fourier transforms in Python, see [here](http://docs.scipy.org/doc/numpy/reference/routines.fft.html)    \n",
    "- In both cases, the transform takes you from $t$ to $\\omega$ (or back the other way).  Importantly, $\\omega$ is frequency in *radians*, not in Hz.  \n",
    "- $\\Delta \\omega$ will be $2 \\pi / T$\n",
    "- To keep the signal real, $X(\\omega)=X(-\\omega)^*$ (the complex conjugate: the real parts are equal, and the imaginary parts switch sign)\n",
    "- When randomly generating $X(\\omega)$ values, sample them from a Normal distribution $N(\\mu=0,\\sigma=1)$.  Remember that these are complex numbers, so sample twice from the distribution; once for the real component and once for the imaginary.\n",
    "- To implement the ``limit``, set all $X(\\omega)$ components with frequencies above the limit to 0\n",
    "- To implement the ``rms``, generate the signal, compute its RMS power ($\\sqrt{{1 \\over T} \\int{x(t)^2}dt}=rms$) and rescale so it has the desired power."
   ]
  },
  {
   "cell_type": "markdown",
   "metadata": {},
   "source": [
    "1. [1 mark] Plot $x(t)$ for three randomly generated signals with ``limit`` at 5, 10, and 20Hz. For each of these, ``T``=1, ``dt``=0.001, and ``rms``=0.5."
   ]
  },
  {
   "cell_type": "code",
   "execution_count": 22,
   "metadata": {},
   "outputs": [],
   "source": [
    "%matplotlib inline\n",
    "import numpy as np\n",
    "import matplotlib.pyplot as plt\n",
    "\n",
    "\n",
    "# doing it this way give the same result\n",
    "def generate_signal(T, dt, rms, limit, seed=None):\n",
    "    if (seed):\n",
    "        np.random.seed(seed)\n",
    "    Len = T/dt\n",
    "    \n",
    "    t = np.linspace(0, T, T/dt)\n",
    "    sig = np.random.normal(0,1,t.shape)                   # generate a random normal time domain signal (white noise)\n",
    "    w_pos = np.linspace(0,np.int(1/(2*dt)), (T/(2*dt)+1))\n",
    "    \n",
    "    SIG = fft.rfft(sig)\n",
    "    FILT = np.piecewise(w_pos, [w_pos <= limit, w_pos > limit], [lambda w_pos: 1, lambda w_pos: 0]) # Create a box filter\n",
    "    FILT[0] = 0        # DC = 0\n",
    "    SIG2 = SIG*FILT    # Apply the box filter\n",
    "    \n",
    "    sig2 = fft.irfft(SIG2)\n",
    "    sig2 = sig2 * rms/getRMS(sig2)\n",
    "    SIG2 = fft.rfft(sig2)          # recalculate fft after scaling\n",
    "    \n",
    "    return sig2, abs(SIG2)"
   ]
  },
  {
   "cell_type": "code",
   "execution_count": null,
   "metadata": {
    "scrolled": true
   },
   "outputs": [],
   "source": []
  },
  {
   "cell_type": "code",
   "execution_count": null,
   "metadata": {},
   "outputs": [],
   "source": []
  }
 ],
 "metadata": {
  "kernelspec": {
   "display_name": "Python 3",
   "language": "python",
   "name": "python3"
  },
  "language_info": {
   "codemirror_mode": {
    "name": "ipython",
    "version": 3
   },
   "file_extension": ".py",
   "mimetype": "text/x-python",
   "name": "python",
   "nbconvert_exporter": "python",
   "pygments_lexer": "ipython3",
   "version": "3.6.5"
  }
 },
 "nbformat": 4,
 "nbformat_minor": 2
}
